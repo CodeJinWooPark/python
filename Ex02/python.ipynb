{
 "cells": [
  {
   "cell_type": "markdown",
   "id": "43386b79",
   "metadata": {},
   "source": [
    "# 포매팅 첫번째 방법"
   ]
  },
  {
   "cell_type": "code",
   "execution_count": 17,
   "id": "91992423",
   "metadata": {
    "scrolled": true
   },
   "outputs": [
    {
     "name": "stdout",
     "output_type": "stream",
     "text": [
      "오늘은 6월 22일 입니다.\n"
     ]
    },
    {
     "data": {
      "text/plain": [
       "'오늘은 7월 7일 입니다.'"
      ]
     },
     "execution_count": 17,
     "metadata": {},
     "output_type": "execute_result"
    }
   ],
   "source": [
    "month = 6\n",
    "day = 22\n",
    "s = \"오늘은 7월 7일 입니다.\"\n",
    "print(\"오늘은 %d월 %d일 입니다.\"%(month,day))\n",
    "s"
   ]
  },
  {
   "attachments": {},
   "cell_type": "markdown",
   "id": "e9dd4d00",
   "metadata": {},
   "source": [
    "## 포매팅 두번째 방법"
   ]
  },
  {
   "cell_type": "code",
   "execution_count": 18,
   "id": "ddb65ee1",
   "metadata": {},
   "outputs": [
    {
     "name": "stdout",
     "output_type": "stream",
     "text": [
      "오늘은 6월 22일 입니다\n"
     ]
    }
   ],
   "source": [
    "month = 6\n",
    "day = 22\n",
    "s = \"오늘은 7월 7일 입니다.\"\n",
    "print(\"오늘은 {}월 {}일 입니다\".format(month,day))"
   ]
  },
  {
   "cell_type": "markdown",
   "id": "6f0ae9dd",
   "metadata": {},
   "source": [
    "### 포매팅 세번째 방법"
   ]
  },
  {
   "cell_type": "code",
   "execution_count": 4,
   "id": "f63a626d",
   "metadata": {},
   "outputs": [
    {
     "data": {
      "text/plain": [
       "'오늘은 6월 22일 입니다.'"
      ]
     },
     "execution_count": 4,
     "metadata": {},
     "output_type": "execute_result"
    }
   ],
   "source": [
    "month = 6\n",
    "day = 22\n",
    "s = f\"오늘은 {month}월 {day}일 입니다.\"\n",
    "s"
   ]
  },
  {
   "cell_type": "code",
   "execution_count": 21,
   "id": "5c46f88e",
   "metadata": {},
   "outputs": [
    {
     "name": "stdout",
     "output_type": "stream",
     "text": [
      "100와 200의 합은 300입니다.\n",
      "100와 200의 합은 300입니다.\n",
      "100와 200의 합은 300입니다.\n"
     ]
    }
   ],
   "source": [
    "x = 100\n",
    "y = 200\n",
    "sum2 = x+y\n",
    "s= \"100와 200의 합은 300입니다.\"\n",
    "print(\"%d와 %d의 합은 %d입니다.\"%(x,y,sum2))\n",
    "print(\"{}와 {}의 합은 {}입니다.\".format(x,y,sum2))\n",
    "print(f\"{x}와 {y}의 합은 {x+y}입니다.\")"
   ]
  },
  {
   "cell_type": "markdown",
   "id": "02e6a079",
   "metadata": {},
   "source": [
    "자주 사용하는 문자열 함수"
   ]
  },
  {
   "cell_type": "code",
   "execution_count": 9,
   "id": "6885d517",
   "metadata": {},
   "outputs": [
    {
     "data": {
      "text/plain": [
       "1"
      ]
     },
     "execution_count": 9,
     "metadata": {},
     "output_type": "execute_result"
    }
   ],
   "source": [
    "# count 함수 문자열에 포함된 개수 세기\n",
    "s = \"오늘 점심 메뉴는 탕수육 입니다. 저는 탕수육을 매우 좋아해서 탕수육만 먹을겁니다.\"\n",
    "s.count(\"메뉴\")"
   ]
  },
  {
   "cell_type": "code",
   "execution_count": 11,
   "id": "e22cb8a4",
   "metadata": {},
   "outputs": [
    {
     "data": {
      "text/plain": [
       "'오늘 메뉴는 탕수육입니다.'"
      ]
     },
     "execution_count": 11,
     "metadata": {},
     "output_type": "execute_result"
    }
   ],
   "source": [
    "# strip 함수\n",
    "s = \"     오늘 메뉴는 탕수육입니다.      \"\n",
    "s.strip()"
   ]
  },
  {
   "cell_type": "code",
   "execution_count": 12,
   "id": "af26721e",
   "metadata": {},
   "outputs": [
    {
     "data": {
      "text/plain": [
       "'오늘 점심 메뉴는 마라탕 입니다. 저는 마라탕을 매우 좋아해서 마라탕만 먹을겁니다.'"
      ]
     },
     "execution_count": 12,
     "metadata": {},
     "output_type": "execute_result"
    }
   ],
   "source": [
    "# replace 함수\n",
    "s = \"오늘 점심 메뉴는 탕수육 입니다. 저는 탕수육을 매우 좋아해서 탕수육만 먹을겁니다.\"\n",
    "s.replace(\"탕수육\",\"마라탕\")"
   ]
  },
  {
   "cell_type": "code",
   "execution_count": 16,
   "id": "60dccd16",
   "metadata": {},
   "outputs": [
    {
     "data": {
      "text/plain": [
       "['오늘 점심 메뉴는 탕수육 입니다', ' 저는 탕수육을 매우 좋아해서 탕수육만 먹을겁니다']"
      ]
     },
     "execution_count": 16,
     "metadata": {},
     "output_type": "execute_result"
    }
   ],
   "source": [
    "# split 함수\n",
    "s = \"오늘 점심 메뉴는 탕수육 입니다. 저는 탕수육을 매우 좋아해서 탕수육만 먹을겁니다\"\n",
    "s.split(\".\")"
   ]
  },
  {
   "cell_type": "code",
   "execution_count": 24,
   "id": "a1e28462",
   "metadata": {},
   "outputs": [
    {
     "name": "stdout",
     "output_type": "stream",
     "text": [
      "10.0\n",
      "0\n",
      "10\n"
     ]
    }
   ],
   "source": [
    "num1 =100\n",
    "num2 =10\n",
    "\n",
    "print(num1/num2)\n",
    "print(num1%num2)\n",
    "print(num1//num2)"
   ]
  },
  {
   "cell_type": "code",
   "execution_count": 26,
   "id": "608b584e",
   "metadata": {},
   "outputs": [
    {
     "name": "stdout",
     "output_type": "stream",
     "text": [
      "안녕하세요\n"
     ]
    }
   ],
   "source": [
    "str1=\"안녕\"\n",
    "str2=\"하세요\"\n",
    "print(str1+str2)"
   ]
  },
  {
   "cell_type": "code",
   "execution_count": 30,
   "id": "feb42b44",
   "metadata": {},
   "outputs": [
    {
     "name": "stdout",
     "output_type": "stream",
     "text": [
      "107\n",
      "17\n"
     ]
    }
   ],
   "source": [
    "str1=10\n",
    "str2=\"7\"\n",
    "print(str(str1)+str2)\n",
    "print(str1+int(str2))"
   ]
  },
  {
   "cell_type": "code",
   "execution_count": 32,
   "id": "bb553cbf",
   "metadata": {},
   "outputs": [
    {
     "name": "stdout",
     "output_type": "stream",
     "text": [
      "26\n",
      "20\n",
      "69\n",
      "7.666666666666667\n"
     ]
    }
   ],
   "source": [
    "num1 =23\n",
    "num2 =3\n",
    "\n",
    "print(num1+num2)\n",
    "print(num1-num2)\n",
    "print(num1*num2)\n",
    "print(num1/num2)"
   ]
  },
  {
   "cell_type": "code",
   "execution_count": 33,
   "id": "de4f4f85",
   "metadata": {},
   "outputs": [
    {
     "name": "stdout",
     "output_type": "stream",
     "text": [
      "정수를 입력하세요>>133\n"
     ]
    }
   ],
   "source": [
    "num=input(\"정수를 입력하세요>>\")"
   ]
  },
  {
   "cell_type": "code",
   "execution_count": 34,
   "id": "56bdabb5",
   "metadata": {},
   "outputs": [
    {
     "data": {
      "text/plain": [
       "'133'"
      ]
     },
     "execution_count": 34,
     "metadata": {},
     "output_type": "execute_result"
    }
   ],
   "source": [
    "num"
   ]
  },
  {
   "cell_type": "code",
   "execution_count": 37,
   "id": "1c0c2eb3",
   "metadata": {},
   "outputs": [
    {
     "name": "stdout",
     "output_type": "stream",
     "text": [
      "정수를 입력하세요>>133\n"
     ]
    }
   ],
   "source": [
    "num=int(input(\"정수를 입력하세요>>\"))"
   ]
  },
  {
   "cell_type": "code",
   "execution_count": 36,
   "id": "4225846e",
   "metadata": {},
   "outputs": [
    {
     "data": {
      "text/plain": [
       "133"
      ]
     },
     "execution_count": 36,
     "metadata": {},
     "output_type": "execute_result"
    }
   ],
   "source": [
    "num"
   ]
  },
  {
   "cell_type": "code",
   "execution_count": 39,
   "id": "127e4523",
   "metadata": {
    "scrolled": false
   },
   "outputs": [
    {
     "name": "stdout",
     "output_type": "stream",
     "text": [
      "정수를 입력하세요>>5\n",
      "정수를 입력하세요>>10\n",
      "더하기 결과: 15\n",
      "빼기 결과: -5\n",
      "곱하기 결과: 50\n",
      "나누기 결과: 0.5\n"
     ]
    }
   ],
   "source": [
    "num1=int(input(\"정수를 입력하세요>>\"))\n",
    "num2=int(input(\"정수를 입력하세요>>\"))\n",
    "print(\"더하기 결과:\",num1+num2)\n",
    "print(\"빼기 결과:\",num1-num2)\n",
    "print(\"곱하기 결과:\",num1*num2)\n",
    "print(\"나누기 결과:\",num1/num2)"
   ]
  },
  {
   "cell_type": "code",
   "execution_count": 43,
   "id": "115fdc93",
   "metadata": {},
   "outputs": [
    {
     "name": "stdout",
     "output_type": "stream",
     "text": [
      "python 점수 입력>>10\n",
      "머신러닝 점수 입력>>10\n",
      "딥러닝 점수 입력>>10\n",
      "합계: 30\n",
      "평균: 10.0\n"
     ]
    },
    {
     "ename": "TypeError",
     "evalue": "sum() takes at most 2 arguments (3 given)",
     "output_type": "error",
     "traceback": [
      "\u001b[1;31m---------------------------------------------------------------------------\u001b[0m",
      "\u001b[1;31mTypeError\u001b[0m                                 Traceback (most recent call last)",
      "Input \u001b[1;32mIn [43]\u001b[0m, in \u001b[0;36m<cell line: 7>\u001b[1;34m()\u001b[0m\n\u001b[0;32m      5\u001b[0m \u001b[38;5;28mprint\u001b[39m(\u001b[38;5;124m\"\u001b[39m\u001b[38;5;124m합계: \u001b[39m\u001b[38;5;132;01m{}\u001b[39;00m\u001b[38;5;124m\"\u001b[39m\u001b[38;5;241m.\u001b[39mformat(ps\u001b[38;5;241m+\u001b[39mms\u001b[38;5;241m+\u001b[39mds))\n\u001b[0;32m      6\u001b[0m \u001b[38;5;28mprint\u001b[39m(\u001b[38;5;124m\"\u001b[39m\u001b[38;5;124m평균: \u001b[39m\u001b[38;5;132;01m{}\u001b[39;00m\u001b[38;5;124m\"\u001b[39m\u001b[38;5;241m.\u001b[39mformat((ps\u001b[38;5;241m+\u001b[39mms\u001b[38;5;241m+\u001b[39mds)\u001b[38;5;241m/\u001b[39m\u001b[38;5;241m3\u001b[39m))\n\u001b[1;32m----> 7\u001b[0m \u001b[38;5;28mprint\u001b[39m(\u001b[38;5;28;43msum\u001b[39;49m\u001b[43m(\u001b[49m\u001b[43mps\u001b[49m\u001b[43m,\u001b[49m\u001b[43mms\u001b[49m\u001b[43m,\u001b[49m\u001b[43mds\u001b[49m\u001b[43m)\u001b[49m)\n",
      "\u001b[1;31mTypeError\u001b[0m: sum() takes at most 2 arguments (3 given)"
     ]
    }
   ],
   "source": [
    "ps=int(input(\"python 점수 입력>>\"))\n",
    "ms=int(input(\"머신러닝 점수 입력>>\"))\n",
    "ds=int(input(\"딥러닝 점수 입력>>\"))\n",
    "\n",
    "print(\"합계: {}\".format(ps+ms+ds))\n",
    "print(\"평균: {}\".format((ps+ms+ds)/3))\n",
    "print(sum(ps,ms,ds))"
   ]
  },
  {
   "cell_type": "code",
   "execution_count": 62,
   "id": "062f48c4",
   "metadata": {},
   "outputs": [
    {
     "name": "stdout",
     "output_type": "stream",
     "text": [
      "시간 입력>>7533\n",
      "2시간 5분 33초\n"
     ]
    }
   ],
   "source": [
    "time=int(input(\"시간 입력>>\"))\n",
    "hour=time//3600\n",
    "minute=(time%3600)//60\n",
    "second=time%60\n",
    "print(\"{}시간 {}분 {}초\".format(hour,minute,second))"
   ]
  },
  {
   "cell_type": "code",
   "execution_count": 63,
   "id": "28899f1e",
   "metadata": {},
   "outputs": [
    {
     "name": "stdout",
     "output_type": "stream",
     "text": [
      "시간 입력>>7533\n",
      "2시간 5분 33초\n"
     ]
    }
   ],
   "source": [
    "time=int(input(\"시간 입력>>\"))\n",
    "hour=time//3600\n",
    "minute=(time%3600)//60\n",
    "second=time%3600%60\n",
    "print(\"{}시간 {}분 {}초\".format(hour,minute,second))"
   ]
  },
  {
   "cell_type": "code",
   "execution_count": 64,
   "id": "9ee8efce",
   "metadata": {},
   "outputs": [
    {
     "name": "stdout",
     "output_type": "stream",
     "text": [
      "xxxxxxxxxx\n"
     ]
    }
   ],
   "source": [
    "s = \"x\"\n",
    "print(s*10)"
   ]
  },
  {
   "cell_type": "code",
   "execution_count": 65,
   "id": "d98abae2",
   "metadata": {},
   "outputs": [
    {
     "name": "stdout",
     "output_type": "stream",
     "text": [
      "안녕하세요안녕하세요\n"
     ]
    }
   ],
   "source": [
    "s = \"안녕하세요\"\n",
    "print(s*2)"
   ]
  },
  {
   "cell_type": "code",
   "execution_count": 67,
   "id": "a56274b3",
   "metadata": {},
   "outputs": [
    {
     "name": "stdout",
     "output_type": "stream",
     "text": [
      "********** 연산하기 **********\n",
      "정수 입력>>10\n",
      "정수 입력>>10\n",
      "+연산자 입력>>+\n",
      "10 + 10 = 20\n"
     ]
    }
   ],
   "source": [
    "print('*'*10, \"연산하기\", '*'*10)\n",
    "num1=int(input(\"정수 입력>>\"))\n",
    "num2=int(input(\"정수 입력>>\"))\n",
    "cal=input(\"+연산자 입력>>\")\n",
    "print(\"{} {} {} = {}\".format(num1,cal,num2,num1+num2))"
   ]
  },
  {
   "cell_type": "code",
   "execution_count": 73,
   "id": "4b572a77",
   "metadata": {},
   "outputs": [
    {
     "name": "stdout",
     "output_type": "stream",
     "text": [
      "정수 입력>>2\n",
      "지수 입력>>3\n",
      "2의 3t승은 8입니다.\n"
     ]
    }
   ],
   "source": [
    "num=int(input(\"정수 입력>>\"))\n",
    "power=int(input(\"지수 입력>>\"))\n",
    "print(\"{}의 {}t승은 {}입니다.\".format(num,power,num**power))"
   ]
  },
  {
   "cell_type": "code",
   "execution_count": 74,
   "id": "ee2e77d2",
   "metadata": {},
   "outputs": [
    {
     "name": "stdout",
     "output_type": "stream",
     "text": [
      "False\n",
      "True\n",
      "False\n",
      "True\n"
     ]
    }
   ],
   "source": [
    "a=3\n",
    "b=7\n",
    "\n",
    "print(a>b)\n",
    "print(a<=b)\n",
    "print(a==b)\n",
    "print(a!=b)"
   ]
  },
  {
   "cell_type": "code",
   "execution_count": 91,
   "id": "45e53205",
   "metadata": {},
   "outputs": [
    {
     "name": "stdout",
     "output_type": "stream",
     "text": [
      "a:4, b:5\n",
      "False\n",
      "True\n",
      "False\n",
      "True\n"
     ]
    }
   ],
   "source": [
    "import random\n",
    "a=random.randint(1,10)\n",
    "b=random.randint(1,10)\n",
    "\n",
    "print(\"a:{}, b:{}\".format(a,b))\n",
    "\n",
    "print(a>b)\n",
    "print(a<=b)\n",
    "print(a==b)\n",
    "print(a!=b)"
   ]
  },
  {
   "cell_type": "code",
   "execution_count": 93,
   "id": "5b423ab9",
   "metadata": {},
   "outputs": [
    {
     "name": "stdout",
     "output_type": "stream",
     "text": [
      "True\n",
      "False\n"
     ]
    }
   ],
   "source": [
    "a=3\n",
    "b=7\n",
    "print(a<b)\n",
    "print(not a<b)"
   ]
  },
  {
   "cell_type": "code",
   "execution_count": 95,
   "id": "d8f58a3e",
   "metadata": {},
   "outputs": [
    {
     "name": "stdout",
     "output_type": "stream",
     "text": [
      "False\n",
      "True\n"
     ]
    }
   ],
   "source": [
    "print(a==b)\n",
    "print(not a==b)"
   ]
  },
  {
   "cell_type": "code",
   "execution_count": 98,
   "id": "cedc599a",
   "metadata": {},
   "outputs": [
    {
     "name": "stdout",
     "output_type": "stream",
     "text": [
      "False\n",
      "False\n",
      "True\n"
     ]
    }
   ],
   "source": [
    "print(3>5 and 10==20)\n",
    "print(3>5 and 10<20)\n",
    "print(3<5 and 10<20)"
   ]
  },
  {
   "cell_type": "code",
   "execution_count": 100,
   "id": "87446149",
   "metadata": {},
   "outputs": [
    {
     "name": "stdout",
     "output_type": "stream",
     "text": [
      "False\n",
      "True\n",
      "True\n"
     ]
    }
   ],
   "source": [
    "print(3>5 or 10==20)\n",
    "print(3>5 or 10<20)\n",
    "print(3<5 or 10<20)"
   ]
  },
  {
   "cell_type": "code",
   "execution_count": 101,
   "id": "bb323825",
   "metadata": {},
   "outputs": [
    {
     "data": {
      "text/plain": [
       "'합격'"
      ]
     },
     "execution_count": 101,
     "metadata": {},
     "output_type": "execute_result"
    }
   ],
   "source": [
    "score=80\n",
    "\"합격\" if score>=60 else \"불합격\""
   ]
  },
  {
   "cell_type": "code",
   "execution_count": 103,
   "id": "e62b5b4d",
   "metadata": {},
   "outputs": [
    {
     "data": {
      "text/plain": [
       "'불합격'"
      ]
     },
     "execution_count": 103,
     "metadata": {},
     "output_type": "execute_result"
    }
   ],
   "source": [
    "score=50\n",
    "\"합격\" if score>=60 else \"불합격\""
   ]
  },
  {
   "cell_type": "code",
   "execution_count": 108,
   "id": "1e430916",
   "metadata": {},
   "outputs": [
    {
     "name": "stdout",
     "output_type": "stream",
     "text": [
      "정수 입력>> 10\n",
      "정수 입력>> 3\n",
      "a:10\n",
      "a: 10\n"
     ]
    }
   ],
   "source": [
    "a=int(input(\"정수 입력>> \"))\n",
    "b=int(input(\"정수 입력>> \"))\n",
    "\n",
    "print(f\"a:{a}\" if a > b else f\"b:{b}\")\n",
    "print(\"a:\",a) if a > b else print(\"b:\",b)"
   ]
  },
  {
   "cell_type": "code",
   "execution_count": 112,
   "id": "fe3d083b",
   "metadata": {},
   "outputs": [
    {
     "name": "stdout",
     "output_type": "stream",
     "text": [
      "첫번째 정수 입력>> 33\n",
      "두번째 정수 입력>> 5\n",
      "두수의 차: 28\n"
     ]
    }
   ],
   "source": [
    "a=int(input(\"첫번째 정수 입력>> \"))\n",
    "b=int(input(\"두번째 정수 입력>> \"))\n",
    "\n",
    "print(\"두수의 차:\",a-b) if a > b else print(\"두수의 차:\",b-a)"
   ]
  },
  {
   "cell_type": "code",
   "execution_count": 119,
   "id": "948ac9d5",
   "metadata": {},
   "outputs": [
    {
     "name": "stdout",
     "output_type": "stream",
     "text": [
      "정수 입력>> 8\n",
      "8는(은) 짝수입니다.\n"
     ]
    }
   ],
   "source": [
    "a=int(input(\"정수 입력>> \"))\n",
    "\n",
    "print(f\"{a}는(은) 짝수입니다.\") if a%2==0 else print(f\"{a}는(은) 홀수입니다.\")"
   ]
  }
 ],
 "metadata": {
  "kernelspec": {
   "display_name": "Python 3 (ipykernel)",
   "language": "python",
   "name": "python3"
  },
  "language_info": {
   "codemirror_mode": {
    "name": "ipython",
    "version": 3
   },
   "file_extension": ".py",
   "mimetype": "text/x-python",
   "name": "python",
   "nbconvert_exporter": "python",
   "pygments_lexer": "ipython3",
   "version": "3.9.12"
  }
 },
 "nbformat": 4,
 "nbformat_minor": 5
}
