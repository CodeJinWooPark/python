{
 "cells": [
  {
   "cell_type": "code",
   "execution_count": null,
   "id": "2b754f32",
   "metadata": {},
   "outputs": [],
   "source": [
    "num=3\n",
    "print(num)"
   ]
  },
  {
   "cell_type": "code",
   "execution_count": null,
   "id": "5f2d15ae",
   "metadata": {},
   "outputs": [],
   "source": [
    "num1=13\n",
    "num2=25\n",
    "num2=77\n",
    "print(num1,num2)\n",
    "print(type(num2))"
   ]
  },
  {
   "cell_type": "code",
   "execution_count": null,
   "id": "337ec301",
   "metadata": {},
   "outputs": [],
   "source": [
    "type(num2) #변수의 자료형 확인"
   ]
  },
  {
   "cell_type": "code",
   "execution_count": null,
   "id": "6b2f278f",
   "metadata": {},
   "outputs": [],
   "source": [
    "num3=3.1425\n",
    "num4=1.25\n",
    "num4=3.12\n",
    "print(num3, num4)\n",
    "print(type(num4))"
   ]
  },
  {
   "cell_type": "code",
   "execution_count": null,
   "id": "a1e20cd4",
   "metadata": {},
   "outputs": [],
   "source": [
    "type(num4)"
   ]
  },
  {
   "cell_type": "code",
   "execution_count": null,
   "id": "4bf5d379",
   "metadata": {},
   "outputs": [],
   "source": [
    "str1=\"Funny python\"\n",
    "str2=\"Easy python\"\n",
    "print(type(str2))"
   ]
  },
  {
   "cell_type": "code",
   "execution_count": null,
   "id": "33d2089c",
   "metadata": {},
   "outputs": [],
   "source": [
    "type(str2)"
   ]
  },
  {
   "cell_type": "code",
   "execution_count": null,
   "id": "7127cb9a",
   "metadata": {},
   "outputs": [],
   "source": [
    "number=10\n",
    "Number=20\n",
    "print(\"number:\", number)\n",
    "print(\"Number:\", Number)"
   ]
  },
  {
   "cell_type": "code",
   "execution_count": null,
   "id": "bfb8c2aa",
   "metadata": {},
   "outputs": [],
   "source": [
    "1a=10"
   ]
  },
  {
   "cell_type": "code",
   "execution_count": null,
   "id": "45f6ad94",
   "metadata": {},
   "outputs": [],
   "source": [
    "if=30\n",
    "if"
   ]
  },
  {
   "cell_type": "code",
   "execution_count": null,
   "id": "fe95e381",
   "metadata": {
    "scrolled": true
   },
   "outputs": [],
   "source": [
    "import keyword\n",
    "keyword.kwlist"
   ]
  },
  {
   "cell_type": "code",
   "execution_count": null,
   "id": "52da342a",
   "metadata": {},
   "outputs": [],
   "source": [
    "a=10\n",
    "b=15\n",
    "print(a,b)"
   ]
  },
  {
   "cell_type": "code",
   "execution_count": null,
   "id": "5b595140",
   "metadata": {},
   "outputs": [],
   "source": [
    "a,b=10,15\n",
    "print(a,b)"
   ]
  },
  {
   "cell_type": "code",
   "execution_count": null,
   "id": "f7281695",
   "metadata": {},
   "outputs": [],
   "source": [
    "str1=\"python\"\n",
    "str2=\"python\"\n",
    "print(str1,str2)"
   ]
  },
  {
   "cell_type": "code",
   "execution_count": null,
   "id": "fa317afc",
   "metadata": {},
   "outputs": [],
   "source": [
    "str1=str2=\"python\"\n",
    "print(str1,str2)"
   ]
  },
  {
   "cell_type": "code",
   "execution_count": null,
   "id": "fcf60c11",
   "metadata": {},
   "outputs": [],
   "source": [
    "x=100\n",
    "y=200\n",
    "sum=x+y\n",
    "print(sum)"
   ]
  },
  {
   "cell_type": "code",
   "execution_count": 1,
   "id": "cde16ab3",
   "metadata": {},
   "outputs": [
    {
     "data": {
      "text/plain": [
       "10"
      ]
     },
     "execution_count": 1,
     "metadata": {},
     "output_type": "execute_result"
    }
   ],
   "source": [
    "sum([1,2,3,4])"
   ]
  },
  {
   "cell_type": "code",
   "execution_count": 2,
   "id": "ea4c6824",
   "metadata": {},
   "outputs": [
    {
     "ename": "SyntaxError",
     "evalue": "invalid syntax (1906985555.py, line 1)",
     "output_type": "error",
     "traceback": [
      "\u001b[1;36m  Input \u001b[1;32mIn [2]\u001b[1;36m\u001b[0m\n\u001b[1;33m    s= 'she's gone'\u001b[0m\n\u001b[1;37m            ^\u001b[0m\n\u001b[1;31mSyntaxError\u001b[0m\u001b[1;31m:\u001b[0m invalid syntax\n"
     ]
    }
   ],
   "source": [
    "s= \"she's gone\""
   ]
  },
  {
   "cell_type": "code",
   "execution_count": 3,
   "id": "1b555950",
   "metadata": {},
   "outputs": [
    {
     "name": "stdout",
     "output_type": "stream",
     "text": [
      "she's gone she's gone\n"
     ]
    }
   ],
   "source": [
    "s1= \"she's gone\"\n",
    "s2= 'she\\'s gone'\n",
    "print(s1,s2)"
   ]
  },
  {
   "cell_type": "code",
   "execution_count": 4,
   "id": "25f25995",
   "metadata": {},
   "outputs": [
    {
     "name": "stdout",
     "output_type": "stream",
     "text": [
      "he said that \"she is gone\" he said thet \"she is gone\"\n"
     ]
    }
   ],
   "source": [
    "s1= 'he said that \"she is gone\"'\n",
    "s2= \"he said thet \\\"she is gone\\\"\"\n",
    "print(s1,s2)"
   ]
  },
  {
   "cell_type": "code",
   "execution_count": 10,
   "id": "825e9e19",
   "metadata": {},
   "outputs": [
    {
     "name": "stdout",
     "output_type": "stream",
     "text": [
      "여러줄로 구성된 \t문자열을 하나로 \n",
      " 대입할 때\n"
     ]
    }
   ],
   "source": [
    "s= '''여러줄로 구성된 \\t문자열을 하나로 \\n 대입할 때'''\n",
    "print(s)"
   ]
  },
  {
   "cell_type": "code",
   "execution_count": 9,
   "id": "3987cb55",
   "metadata": {},
   "outputs": [
    {
     "name": "stdout",
     "output_type": "stream",
     "text": [
      "여러줄로 구성된 \n",
      "\t문자열을 하나로\n",
      "대입할때\n"
     ]
    }
   ],
   "source": [
    "s='''여러줄로 구성된 \n",
    "문자열을 하나로\n",
    "대입할때'''\n",
    "print(s)"
   ]
  },
  {
   "cell_type": "code",
   "execution_count": 15,
   "id": "e96f97a3",
   "metadata": {},
   "outputs": [
    {
     "name": "stdout",
     "output_type": "stream",
     "text": [
      "M\n",
      "i\n",
      "ms\n",
      "J\n",
      "W\n"
     ]
    }
   ],
   "source": [
    "s= \"My name is JW\"\n",
    "print(s[0])\n",
    "print(s[8])\n",
    "print(s[5]+s[9])\n",
    "print(s[-2])\n",
    "print(s[-1])"
   ]
  },
  {
   "cell_type": "code",
   "execution_count": 17,
   "id": "00b8e84e",
   "metadata": {},
   "outputs": [
    {
     "name": "stdout",
     "output_type": "stream",
     "text": [
      "My\n",
      "name \n",
      "is\n"
     ]
    }
   ],
   "source": [
    "s= \"My name is JW\"\n",
    "print(s[0:2])\n",
    "print(s[3:8])\n",
    "print(s[8:10])"
   ]
  },
  {
   "cell_type": "code",
   "execution_count": 20,
   "id": "71864ee9",
   "metadata": {},
   "outputs": [
    {
     "name": "stdout",
     "output_type": "stream",
     "text": [
      "My name\n"
     ]
    }
   ],
   "source": [
    "s= \"My name is JW\"\n",
    "print(s[:7])"
   ]
  },
  {
   "cell_type": "code",
   "execution_count": 21,
   "id": "0a8b6657",
   "metadata": {},
   "outputs": [
    {
     "name": "stdout",
     "output_type": "stream",
     "text": [
      "is JW\n",
      "is JW\n",
      "is JW\n"
     ]
    }
   ],
   "source": [
    "s= \"My name is JW\"\n",
    "print(s[8:13])\n",
    "print(s[8:])\n",
    "print(s[-5:])"
   ]
  },
  {
   "cell_type": "code",
   "execution_count": 25,
   "id": "bc507d0a",
   "metadata": {},
   "outputs": [
    {
     "name": "stdout",
     "output_type": "stream",
     "text": [
      "My name is JW\n",
      "My name is JW\n",
      "My name is JW\n",
      "My name is JW\n"
     ]
    }
   ],
   "source": [
    "s= \"My name is JW\"\n",
    "print(s)\n",
    "print(s[:13])\n",
    "print(s[0:])\n",
    "print(s[:])"
   ]
  },
  {
   "cell_type": "code",
   "execution_count": 30,
   "id": "307cd223",
   "metadata": {},
   "outputs": [
    {
     "name": "stdout",
     "output_type": "stream",
     "text": [
      "날짜: 2020년 3월 3일\n",
      "날씨: 맑음\n"
     ]
    }
   ],
   "source": [
    "s=\"2020년 3월 3일의 날씨는 맑음입니다.\"\n",
    "print(\"날짜:\", s[:11])\n",
    "print(\"날씨:\", s[-6:-4])"
   ]
  },
  {
   "cell_type": "code",
   "execution_count": 38,
   "id": "f1bf7293",
   "metadata": {},
   "outputs": [
    {
     "name": "stdout",
     "output_type": "stream",
     "text": [
      "3\n",
      "6\n"
     ]
    }
   ],
   "source": [
    "m=input()\n",
    "m=int(m)\n",
    "a=m+3\n",
    "print(a)"
   ]
  },
  {
   "cell_type": "code",
   "execution_count": null,
   "id": "2cf8f337",
   "metadata": {},
   "outputs": [],
   "source": []
  },
  {
   "cell_type": "code",
   "execution_count": null,
   "id": "95bfb801",
   "metadata": {},
   "outputs": [],
   "source": []
  }
 ],
 "metadata": {
  "kernelspec": {
   "display_name": "Python 3 (ipykernel)",
   "language": "python",
   "name": "python3"
  },
  "language_info": {
   "codemirror_mode": {
    "name": "ipython",
    "version": 3
   },
   "file_extension": ".py",
   "mimetype": "text/x-python",
   "name": "python",
   "nbconvert_exporter": "python",
   "pygments_lexer": "ipython3",
   "version": "3.9.12"
  }
 },
 "nbformat": 4,
 "nbformat_minor": 5
}
